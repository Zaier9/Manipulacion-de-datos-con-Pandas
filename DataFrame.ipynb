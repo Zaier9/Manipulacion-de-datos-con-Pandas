{
  "nbformat": 4,
  "nbformat_minor": 0,
  "metadata": {
    "colab": {
      "name": "2 dataFrame.ipynb",
      "provenance": [],
      "collapsed_sections": [],
      "authorship_tag": "ABX9TyN977ILClWP6+ilvWJ7naxJ",
      "include_colab_link": true
    },
    "kernelspec": {
      "name": "python3",
      "display_name": "Python 3"
    },
    "language_info": {
      "name": "python"
    }
  },
  "cells": [
    {
      "cell_type": "markdown",
      "metadata": {
        "id": "view-in-github",
        "colab_type": "text"
      },
      "source": [
        "<a href=\"https://colab.research.google.com/github/Zaier9/Manipulacion-de-datos-con-Pandas/blob/main/DataFrame.ipynb\" target=\"_parent\"><img src=\"https://colab.research.google.com/assets/colab-badge.svg\" alt=\"Open In Colab\"/></a>"
      ]
    },
    {
      "cell_type": "code",
      "metadata": {
        "id": "fX3jWVCgv9w9"
      },
      "source": [
        "import pandas as pd\n"
      ],
      "execution_count": null,
      "outputs": []
    },
    {
      "cell_type": "code",
      "metadata": {
        "colab": {
          "base_uri": "https://localhost:8080/",
          "height": 35
        },
        "id": "hTkPGsaCwED7",
        "outputId": "470de894-2279-44cc-cfb4-fab9715bff12"
      },
      "source": [
        "pd.__version__"
      ],
      "execution_count": null,
      "outputs": [
        {
          "output_type": "execute_result",
          "data": {
            "application/vnd.google.colaboratory.intrinsic+json": {
              "type": "string"
            },
            "text/plain": [
              "'1.1.5'"
            ]
          },
          "metadata": {
            "tags": []
          },
          "execution_count": 3
        }
      ]
    },
    {
      "cell_type": "code",
      "metadata": {
        "colab": {
          "base_uri": "https://localhost:8080/"
        },
        "id": "RH22xAsawsAs",
        "outputId": "14141c8d-de69-41f8-f393-8a6167b9494d"
      },
      "source": [
        "dict_data = {'CH': [100, 800, 200], 'CO': [100, 200, 300], 'MX': [300, 500, 400]}\n",
        "dict_data"
      ],
      "execution_count": null,
      "outputs": [
        {
          "output_type": "execute_result",
          "data": {
            "text/plain": [
              "{'CH': [100, 800, 200], 'CO': [100, 200, 300], 'MX': [300, 500, 400]}"
            ]
          },
          "metadata": {
            "tags": []
          },
          "execution_count": 4
        }
      ]
    },
    {
      "cell_type": "code",
      "metadata": {
        "colab": {
          "base_uri": "https://localhost:8080/",
          "height": 142
        },
        "id": "LE_17cFCxTn7",
        "outputId": "79b1f996-87f4-4806-ae92-220eb5d9412d"
      },
      "source": [
        "df = pd.DataFrame(dict_data)\n",
        "df"
      ],
      "execution_count": null,
      "outputs": [
        {
          "output_type": "execute_result",
          "data": {
            "text/html": [
              "<div>\n",
              "<style scoped>\n",
              "    .dataframe tbody tr th:only-of-type {\n",
              "        vertical-align: middle;\n",
              "    }\n",
              "\n",
              "    .dataframe tbody tr th {\n",
              "        vertical-align: top;\n",
              "    }\n",
              "\n",
              "    .dataframe thead th {\n",
              "        text-align: right;\n",
              "    }\n",
              "</style>\n",
              "<table border=\"1\" class=\"dataframe\">\n",
              "  <thead>\n",
              "    <tr style=\"text-align: right;\">\n",
              "      <th></th>\n",
              "      <th>CH</th>\n",
              "      <th>CO</th>\n",
              "      <th>MX</th>\n",
              "    </tr>\n",
              "  </thead>\n",
              "  <tbody>\n",
              "    <tr>\n",
              "      <th>0</th>\n",
              "      <td>100</td>\n",
              "      <td>100</td>\n",
              "      <td>300</td>\n",
              "    </tr>\n",
              "    <tr>\n",
              "      <th>1</th>\n",
              "      <td>800</td>\n",
              "      <td>200</td>\n",
              "      <td>500</td>\n",
              "    </tr>\n",
              "    <tr>\n",
              "      <th>2</th>\n",
              "      <td>200</td>\n",
              "      <td>300</td>\n",
              "      <td>400</td>\n",
              "    </tr>\n",
              "  </tbody>\n",
              "</table>\n",
              "</div>"
            ],
            "text/plain": [
              "    CH   CO   MX\n",
              "0  100  100  300\n",
              "1  800  200  500\n",
              "2  200  300  400"
            ]
          },
          "metadata": {
            "tags": []
          },
          "execution_count": 5
        }
      ]
    },
    {
      "cell_type": "code",
      "metadata": {
        "id": "FBwcoeSL0ch9"
      },
      "source": [
        "import numpy as np\n"
      ],
      "execution_count": null,
      "outputs": []
    },
    {
      "cell_type": "code",
      "metadata": {
        "id": "sw5APbA6xhId"
      },
      "source": [
        "dict_data={\n",
        "    'edad': [10, 9, 13, 14, 12, 11, 12],\n",
        "    'cm': [115, 110, 130, 155, 125, 120, 125],\n",
        "    'pais': ['CO', 'MX', 'CO', 'MX', 'MX', 'CH', 'CH'],\n",
        "    'genero': ['M', 'F', 'F', 'M', 'M', 'M', 'F'],\n",
        "    'Q1': [5, 10, 8, np.nan, 7, 8, 3],\n",
        "    'Q2': [7, 9, 9, 8, 8, 8, 9]\n",
        "}"
      ],
      "execution_count": null,
      "outputs": []
    },
    {
      "cell_type": "code",
      "metadata": {
        "colab": {
          "base_uri": "https://localhost:8080/",
          "height": 266
        },
        "id": "TNQPyD7v0g1V",
        "outputId": "c4a28208-90f4-43f7-95b1-1fb86ea6ef96"
      },
      "source": [
        "df = pd.DataFrame(dict_data, index=['Ana', 'Benito', 'Camilo', 'Daniel', 'Erika', 'Fabian', 'Gabriela'])\n",
        "df"
      ],
      "execution_count": null,
      "outputs": [
        {
          "output_type": "execute_result",
          "data": {
            "text/html": [
              "<div>\n",
              "<style scoped>\n",
              "    .dataframe tbody tr th:only-of-type {\n",
              "        vertical-align: middle;\n",
              "    }\n",
              "\n",
              "    .dataframe tbody tr th {\n",
              "        vertical-align: top;\n",
              "    }\n",
              "\n",
              "    .dataframe thead th {\n",
              "        text-align: right;\n",
              "    }\n",
              "</style>\n",
              "<table border=\"1\" class=\"dataframe\">\n",
              "  <thead>\n",
              "    <tr style=\"text-align: right;\">\n",
              "      <th></th>\n",
              "      <th>edad</th>\n",
              "      <th>cm</th>\n",
              "      <th>pais</th>\n",
              "      <th>genero</th>\n",
              "      <th>Q1</th>\n",
              "      <th>Q2</th>\n",
              "    </tr>\n",
              "  </thead>\n",
              "  <tbody>\n",
              "    <tr>\n",
              "      <th>Ana</th>\n",
              "      <td>10</td>\n",
              "      <td>115</td>\n",
              "      <td>CO</td>\n",
              "      <td>M</td>\n",
              "      <td>5.0</td>\n",
              "      <td>7</td>\n",
              "    </tr>\n",
              "    <tr>\n",
              "      <th>Benito</th>\n",
              "      <td>9</td>\n",
              "      <td>110</td>\n",
              "      <td>MX</td>\n",
              "      <td>F</td>\n",
              "      <td>10.0</td>\n",
              "      <td>9</td>\n",
              "    </tr>\n",
              "    <tr>\n",
              "      <th>Camilo</th>\n",
              "      <td>13</td>\n",
              "      <td>130</td>\n",
              "      <td>CO</td>\n",
              "      <td>F</td>\n",
              "      <td>8.0</td>\n",
              "      <td>9</td>\n",
              "    </tr>\n",
              "    <tr>\n",
              "      <th>Daniel</th>\n",
              "      <td>14</td>\n",
              "      <td>155</td>\n",
              "      <td>MX</td>\n",
              "      <td>M</td>\n",
              "      <td>NaN</td>\n",
              "      <td>8</td>\n",
              "    </tr>\n",
              "    <tr>\n",
              "      <th>Erika</th>\n",
              "      <td>12</td>\n",
              "      <td>125</td>\n",
              "      <td>MX</td>\n",
              "      <td>M</td>\n",
              "      <td>7.0</td>\n",
              "      <td>8</td>\n",
              "    </tr>\n",
              "    <tr>\n",
              "      <th>Fabian</th>\n",
              "      <td>11</td>\n",
              "      <td>120</td>\n",
              "      <td>CH</td>\n",
              "      <td>M</td>\n",
              "      <td>8.0</td>\n",
              "      <td>8</td>\n",
              "    </tr>\n",
              "    <tr>\n",
              "      <th>Gabriela</th>\n",
              "      <td>12</td>\n",
              "      <td>125</td>\n",
              "      <td>CH</td>\n",
              "      <td>F</td>\n",
              "      <td>3.0</td>\n",
              "      <td>9</td>\n",
              "    </tr>\n",
              "  </tbody>\n",
              "</table>\n",
              "</div>"
            ],
            "text/plain": [
              "          edad   cm pais genero    Q1  Q2\n",
              "Ana         10  115   CO      M   5.0   7\n",
              "Benito       9  110   MX      F  10.0   9\n",
              "Camilo      13  130   CO      F   8.0   9\n",
              "Daniel      14  155   MX      M   NaN   8\n",
              "Erika       12  125   MX      M   7.0   8\n",
              "Fabian      11  120   CH      M   8.0   8\n",
              "Gabriela    12  125   CH      F   3.0   9"
            ]
          },
          "metadata": {
            "tags": []
          },
          "execution_count": 8
        }
      ]
    },
    {
      "cell_type": "code",
      "metadata": {
        "colab": {
          "base_uri": "https://localhost:8080/"
        },
        "id": "I_dMduOgJ7EA",
        "outputId": "8f361001-7898-42da-cbc5-0255a31a3406"
      },
      "source": [
        "df.index\n"
      ],
      "execution_count": null,
      "outputs": [
        {
          "output_type": "execute_result",
          "data": {
            "text/plain": [
              "Index(['Ana', 'Benito', 'Camilo', 'Daniel', 'Erika', 'Fabian', 'Gabriela'], dtype='object')"
            ]
          },
          "metadata": {
            "tags": []
          },
          "execution_count": 9
        }
      ]
    },
    {
      "cell_type": "code",
      "metadata": {
        "id": "aQ8Gk4Ea1N7Q"
      },
      "source": [
        "import pandas as pd\n"
      ],
      "execution_count": null,
      "outputs": []
    },
    {
      "cell_type": "code",
      "metadata": {
        "id": "0OOXhVqL8jMm"
      },
      "source": [
        "dict_data={\n",
        "    'Jugador': ['Lioenl Messi', 'Antoine Griezmann', 'Pedri', 'Ilaix Moriba', 'Martin Braithwaite', 'Ousmane Dembélé', 'Ansu Fati','Sergio Busquets'],\n",
        "    'Posicion': ['Delantero', 'Delantero', 'Mediocampista', 'Mediocampista', 'Delantero', 'Delantero', 'Delantero', 'Mediocampista'],\n",
        "    'Nacionalidad': ['AR', 'FR', 'ES', 'ES', 'DK', 'FR', 'ES', 'ES'],\n",
        "    'Peso KG': [72, 73, 60, 73, 73, 67, 66, 76],\n",
        "    'Altura CM': [172, 176, 174, 185, 177, 178, 178, 189],\n",
        "    'Goles 20/21': [38, 20, 4, 1, 7, 11, 5, 0],\n",
        "    'Asistencias': [12, 12, 6, 0, 3, 5, 2, 5],\n",
        "    'Partidos': [47, 51, 52, 14, 42, 44, 10, 50],\n",
        "    'Min. Totales': [3652, 3400, 3034, 830, 1620, 2435, 436, 3184]\n",
        "}"
      ],
      "execution_count": null,
      "outputs": []
    },
    {
      "cell_type": "code",
      "metadata": {
        "colab": {
          "base_uri": "https://localhost:8080/",
          "height": 436
        },
        "id": "92SvoRBeFAHD",
        "outputId": "b1501677-4ec9-422e-d767-8cda0856cdac"
      },
      "source": [
        "df = pd.DataFrame(dict_data)\n",
        "df"
      ],
      "execution_count": null,
      "outputs": [
        {
          "output_type": "execute_result",
          "data": {
            "text/html": [
              "<div>\n",
              "<style scoped>\n",
              "    .dataframe tbody tr th:only-of-type {\n",
              "        vertical-align: middle;\n",
              "    }\n",
              "\n",
              "    .dataframe tbody tr th {\n",
              "        vertical-align: top;\n",
              "    }\n",
              "\n",
              "    .dataframe thead th {\n",
              "        text-align: right;\n",
              "    }\n",
              "</style>\n",
              "<table border=\"1\" class=\"dataframe\">\n",
              "  <thead>\n",
              "    <tr style=\"text-align: right;\">\n",
              "      <th></th>\n",
              "      <th>Jugador</th>\n",
              "      <th>Posicion</th>\n",
              "      <th>Nacionalidad</th>\n",
              "      <th>Peso KG</th>\n",
              "      <th>Altura CM</th>\n",
              "      <th>Goles 20/21</th>\n",
              "      <th>Asistencias</th>\n",
              "      <th>Partidos</th>\n",
              "      <th>Min. Totales</th>\n",
              "    </tr>\n",
              "  </thead>\n",
              "  <tbody>\n",
              "    <tr>\n",
              "      <th>0</th>\n",
              "      <td>Lioenl Messi</td>\n",
              "      <td>Delantero</td>\n",
              "      <td>AR</td>\n",
              "      <td>72</td>\n",
              "      <td>172</td>\n",
              "      <td>38</td>\n",
              "      <td>12</td>\n",
              "      <td>47</td>\n",
              "      <td>3652</td>\n",
              "    </tr>\n",
              "    <tr>\n",
              "      <th>1</th>\n",
              "      <td>Antoine Griezmann</td>\n",
              "      <td>Delantero</td>\n",
              "      <td>FR</td>\n",
              "      <td>73</td>\n",
              "      <td>176</td>\n",
              "      <td>20</td>\n",
              "      <td>12</td>\n",
              "      <td>51</td>\n",
              "      <td>3400</td>\n",
              "    </tr>\n",
              "    <tr>\n",
              "      <th>2</th>\n",
              "      <td>Pedri</td>\n",
              "      <td>Mediocampista</td>\n",
              "      <td>ES</td>\n",
              "      <td>60</td>\n",
              "      <td>174</td>\n",
              "      <td>4</td>\n",
              "      <td>6</td>\n",
              "      <td>52</td>\n",
              "      <td>3034</td>\n",
              "    </tr>\n",
              "    <tr>\n",
              "      <th>3</th>\n",
              "      <td>Ilaix Moriba</td>\n",
              "      <td>Mediocampista</td>\n",
              "      <td>ES</td>\n",
              "      <td>73</td>\n",
              "      <td>185</td>\n",
              "      <td>1</td>\n",
              "      <td>0</td>\n",
              "      <td>14</td>\n",
              "      <td>830</td>\n",
              "    </tr>\n",
              "    <tr>\n",
              "      <th>4</th>\n",
              "      <td>Martin Braithwaite</td>\n",
              "      <td>Delantero</td>\n",
              "      <td>DK</td>\n",
              "      <td>73</td>\n",
              "      <td>177</td>\n",
              "      <td>7</td>\n",
              "      <td>3</td>\n",
              "      <td>42</td>\n",
              "      <td>1620</td>\n",
              "    </tr>\n",
              "    <tr>\n",
              "      <th>5</th>\n",
              "      <td>Ousmane Dembélé</td>\n",
              "      <td>Delantero</td>\n",
              "      <td>FR</td>\n",
              "      <td>67</td>\n",
              "      <td>178</td>\n",
              "      <td>11</td>\n",
              "      <td>5</td>\n",
              "      <td>44</td>\n",
              "      <td>2435</td>\n",
              "    </tr>\n",
              "    <tr>\n",
              "      <th>6</th>\n",
              "      <td>Ansu Fati</td>\n",
              "      <td>Delantero</td>\n",
              "      <td>ES</td>\n",
              "      <td>66</td>\n",
              "      <td>178</td>\n",
              "      <td>5</td>\n",
              "      <td>2</td>\n",
              "      <td>10</td>\n",
              "      <td>436</td>\n",
              "    </tr>\n",
              "    <tr>\n",
              "      <th>7</th>\n",
              "      <td>Sergio Busquets</td>\n",
              "      <td>Mediocampista</td>\n",
              "      <td>ES</td>\n",
              "      <td>76</td>\n",
              "      <td>189</td>\n",
              "      <td>0</td>\n",
              "      <td>5</td>\n",
              "      <td>50</td>\n",
              "      <td>3184</td>\n",
              "    </tr>\n",
              "  </tbody>\n",
              "</table>\n",
              "</div>"
            ],
            "text/plain": [
              "              Jugador       Posicion  ... Partidos  Min. Totales\n",
              "0        Lioenl Messi      Delantero  ...       47          3652\n",
              "1   Antoine Griezmann      Delantero  ...       51          3400\n",
              "2               Pedri  Mediocampista  ...       52          3034\n",
              "3        Ilaix Moriba  Mediocampista  ...       14           830\n",
              "4  Martin Braithwaite      Delantero  ...       42          1620\n",
              "5     Ousmane Dembélé      Delantero  ...       44          2435\n",
              "6           Ansu Fati      Delantero  ...       10           436\n",
              "7     Sergio Busquets  Mediocampista  ...       50          3184\n",
              "\n",
              "[8 rows x 9 columns]"
            ]
          },
          "metadata": {
            "tags": []
          },
          "execution_count": 12
        }
      ]
    },
    {
      "cell_type": "code",
      "metadata": {
        "colab": {
          "base_uri": "https://localhost:8080/",
          "height": 297
        },
        "id": "2ZyTcJSVKIqR",
        "outputId": "6fa7783a-2327-4703-e801-ffe2761c9a6f"
      },
      "source": [
        "df[['Jugador', 'Nacionalidad', 'Asistencias', 'Goles 20/21']]"
      ],
      "execution_count": null,
      "outputs": [
        {
          "output_type": "execute_result",
          "data": {
            "text/html": [
              "<div>\n",
              "<style scoped>\n",
              "    .dataframe tbody tr th:only-of-type {\n",
              "        vertical-align: middle;\n",
              "    }\n",
              "\n",
              "    .dataframe tbody tr th {\n",
              "        vertical-align: top;\n",
              "    }\n",
              "\n",
              "    .dataframe thead th {\n",
              "        text-align: right;\n",
              "    }\n",
              "</style>\n",
              "<table border=\"1\" class=\"dataframe\">\n",
              "  <thead>\n",
              "    <tr style=\"text-align: right;\">\n",
              "      <th></th>\n",
              "      <th>Jugador</th>\n",
              "      <th>Nacionalidad</th>\n",
              "      <th>Asistencias</th>\n",
              "      <th>Goles 20/21</th>\n",
              "    </tr>\n",
              "  </thead>\n",
              "  <tbody>\n",
              "    <tr>\n",
              "      <th>0</th>\n",
              "      <td>Lioenl Messi</td>\n",
              "      <td>AR</td>\n",
              "      <td>12</td>\n",
              "      <td>38</td>\n",
              "    </tr>\n",
              "    <tr>\n",
              "      <th>1</th>\n",
              "      <td>Antoine Griezmann</td>\n",
              "      <td>FR</td>\n",
              "      <td>12</td>\n",
              "      <td>20</td>\n",
              "    </tr>\n",
              "    <tr>\n",
              "      <th>2</th>\n",
              "      <td>Pedri</td>\n",
              "      <td>ES</td>\n",
              "      <td>6</td>\n",
              "      <td>4</td>\n",
              "    </tr>\n",
              "    <tr>\n",
              "      <th>3</th>\n",
              "      <td>Ilaix Moriba</td>\n",
              "      <td>ES</td>\n",
              "      <td>0</td>\n",
              "      <td>1</td>\n",
              "    </tr>\n",
              "    <tr>\n",
              "      <th>4</th>\n",
              "      <td>Martin Braithwaite</td>\n",
              "      <td>DK</td>\n",
              "      <td>3</td>\n",
              "      <td>7</td>\n",
              "    </tr>\n",
              "    <tr>\n",
              "      <th>5</th>\n",
              "      <td>Ousmane Dembélé</td>\n",
              "      <td>FR</td>\n",
              "      <td>5</td>\n",
              "      <td>11</td>\n",
              "    </tr>\n",
              "    <tr>\n",
              "      <th>6</th>\n",
              "      <td>Ansu Fati</td>\n",
              "      <td>ES</td>\n",
              "      <td>2</td>\n",
              "      <td>5</td>\n",
              "    </tr>\n",
              "    <tr>\n",
              "      <th>7</th>\n",
              "      <td>Sergio Busquets</td>\n",
              "      <td>ES</td>\n",
              "      <td>5</td>\n",
              "      <td>0</td>\n",
              "    </tr>\n",
              "  </tbody>\n",
              "</table>\n",
              "</div>"
            ],
            "text/plain": [
              "              Jugador Nacionalidad  Asistencias  Goles 20/21\n",
              "0        Lioenl Messi           AR           12           38\n",
              "1   Antoine Griezmann           FR           12           20\n",
              "2               Pedri           ES            6            4\n",
              "3        Ilaix Moriba           ES            0            1\n",
              "4  Martin Braithwaite           DK            3            7\n",
              "5     Ousmane Dembélé           FR            5           11\n",
              "6           Ansu Fati           ES            2            5\n",
              "7     Sergio Busquets           ES            5            0"
            ]
          },
          "metadata": {
            "tags": []
          },
          "execution_count": 13
        }
      ]
    },
    {
      "cell_type": "code",
      "metadata": {
        "colab": {
          "base_uri": "https://localhost:8080/"
        },
        "id": "4StaKf6uKSNu",
        "outputId": "6d79a8e7-4275-42ba-a50c-315a9dafacfc"
      },
      "source": [
        "df.loc[0]"
      ],
      "execution_count": null,
      "outputs": [
        {
          "output_type": "execute_result",
          "data": {
            "text/plain": [
              "Jugador         Lioenl Messi\n",
              "Posicion           Delantero\n",
              "Nacionalidad              AR\n",
              "Peso KG                   72\n",
              "Altura CM                172\n",
              "Goles 20/21               38\n",
              "Asistencias               12\n",
              "Partidos                  47\n",
              "Min. Totales            3652\n",
              "Name: 0, dtype: object"
            ]
          },
          "metadata": {
            "tags": []
          },
          "execution_count": 14
        }
      ]
    },
    {
      "cell_type": "code",
      "metadata": {
        "id": "50bKuH1gMmPU",
        "colab": {
          "base_uri": "https://localhost:8080/"
        },
        "outputId": "be261161-4846-448d-c1a4-6bff083f65c3"
      },
      "source": [
        "df.values"
      ],
      "execution_count": null,
      "outputs": [
        {
          "output_type": "execute_result",
          "data": {
            "text/plain": [
              "array([['Lioenl Messi', 'Delantero', 'AR', 72, 172, 38, 12, 47, 3652],\n",
              "       ['Antoine Griezmann', 'Delantero', 'FR', 73, 176, 20, 12, 51,\n",
              "        3400],\n",
              "       ['Pedri', 'Mediocampista', 'ES', 60, 174, 4, 6, 52, 3034],\n",
              "       ['Ilaix Moriba', 'Mediocampista', 'ES', 73, 185, 1, 0, 14, 830],\n",
              "       ['Martin Braithwaite', 'Delantero', 'DK', 73, 177, 7, 3, 42, 1620],\n",
              "       ['Ousmane Dembélé', 'Delantero', 'FR', 67, 178, 11, 5, 44, 2435],\n",
              "       ['Ansu Fati', 'Delantero', 'ES', 66, 178, 5, 2, 10, 436],\n",
              "       ['Sergio Busquets', 'Mediocampista', 'ES', 76, 189, 0, 5, 50,\n",
              "        3184]], dtype=object)"
            ]
          },
          "metadata": {
            "tags": []
          },
          "execution_count": 15
        }
      ]
    },
    {
      "cell_type": "code",
      "metadata": {
        "colab": {
          "base_uri": "https://localhost:8080/"
        },
        "id": "uFtjmW_duP89",
        "outputId": "218e34c8-3cf7-4bf8-c0f9-4fb7e3b90d0d"
      },
      "source": [
        "df.iloc[2, 1]"
      ],
      "execution_count": null,
      "outputs": [
        {
          "output_type": "execute_result",
          "data": {
            "application/vnd.google.colaboratory.intrinsic+json": {
              "type": "string"
            },
            "text/plain": [
              "'Mediocampista'"
            ]
          },
          "metadata": {
            "tags": []
          },
          "execution_count": 16
        }
      ]
    },
    {
      "cell_type": "code",
      "metadata": {
        "id": "QAMBuy9Iu_Ws"
      },
      "source": [
        ""
      ],
      "execution_count": null,
      "outputs": []
    }
  ]
}